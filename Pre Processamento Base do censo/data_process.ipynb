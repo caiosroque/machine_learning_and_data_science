{
 "cells": [
  {
   "cell_type": "code",
   "execution_count": null,
   "metadata": {},
   "outputs": [],
   "source": [
    "import pandas as pd\n",
    "import numpy as np\n",
    "import seaborn as sns\n",
    "import matplotlib.pyplot as plt\n",
    "import plotly.express as px"
   ]
  },
  {
   "cell_type": "markdown",
   "metadata": {},
   "source": [
    "Exploração dos dados"
   ]
  },
  {
   "cell_type": "code",
   "execution_count": null,
   "metadata": {},
   "outputs": [],
   "source": [
    "#Importando a base de dados\n",
    "base_census = pd.read_csv('adult.data')\n",
    "\n",
    "#Ela veio sem o nome das colunas, criei uma variavel com o nome das colunas\n",
    "column_names = ['age', 'workclass', 'final-weight', 'education', 'education-num', 'marital-status', 'occupation', 'relationship', 'race', 'sex', 'capital-gain', 'capital-loos', 'hour-per-week', 'native-country', 'income']\n",
    "\n",
    "#Atribui os nomes para as colunas utilizando o .columns\n",
    "base_census.columns = column_names\n",
    "\n",
    "display(base_census )\n"
   ]
  },
  {
   "cell_type": "code",
   "execution_count": null,
   "metadata": {},
   "outputs": [],
   "source": [
    "#Para visualizar algumas estatisticas, analise inicial\n",
    "base_census.describe()"
   ]
  },
  {
   "cell_type": "code",
   "execution_count": null,
   "metadata": {},
   "outputs": [],
   "source": [
    "#Verificar se existe valores faltantes\n",
    "base_census.isnull().sum()"
   ]
  },
  {
   "cell_type": "markdown",
   "metadata": {},
   "source": [
    "Visualização dos dados"
   ]
  },
  {
   "cell_type": "code",
   "execution_count": null,
   "metadata": {},
   "outputs": [],
   "source": [
    "np.unique(base_census['income'], return_counts=True)"
   ]
  },
  {
   "cell_type": "code",
   "execution_count": null,
   "metadata": {},
   "outputs": [],
   "source": [
    "#Gráfico do seaborn\n",
    "sns.countplot(x = base_census['income']);"
   ]
  },
  {
   "cell_type": "code",
   "execution_count": null,
   "metadata": {},
   "outputs": [],
   "source": [
    "#Histogramas\n",
    "plt.hist(x = base_census['age']);"
   ]
  },
  {
   "cell_type": "code",
   "execution_count": null,
   "metadata": {},
   "outputs": [],
   "source": [
    "#Histograma\n",
    "plt.hist(x= base_census['education-num']);"
   ]
  },
  {
   "cell_type": "code",
   "execution_count": null,
   "metadata": {},
   "outputs": [],
   "source": [
    "#Histograma\n",
    "plt.hist(x = base_census['hour-per-week']);"
   ]
  },
  {
   "cell_type": "code",
   "execution_count": null,
   "metadata": {},
   "outputs": [],
   "source": [
    "#Gráfico dinamico\n",
    "grafico = px.treemap(base_census, path=['workclass', 'age'])\n",
    "grafico.show()"
   ]
  },
  {
   "cell_type": "code",
   "execution_count": null,
   "metadata": {},
   "outputs": [],
   "source": [
    "#Gráfico dinâmico 2 - Treemap é bom para ver agrupamento de dados e relações \n",
    "grafico = px.treemap(base_census, path=['occupation', 'relationship', 'age'])\n",
    "grafico.show()"
   ]
  },
  {
   "cell_type": "code",
   "execution_count": null,
   "metadata": {},
   "outputs": [],
   "source": [
    "#Grafico de categoria paralelas\n",
    "grafico = px.parallel_categories(base_census, dimensions=['occupation', 'relationship'])\n",
    "grafico.show()"
   ]
  },
  {
   "cell_type": "code",
   "execution_count": null,
   "metadata": {},
   "outputs": [],
   "source": [
    "#Grafico de categoria paralelas\n",
    "grafico = px.parallel_categories(base_census, dimensions=['workclass', 'occupation', 'income'])\n",
    "grafico.show()"
   ]
  },
  {
   "cell_type": "code",
   "execution_count": null,
   "metadata": {},
   "outputs": [],
   "source": [
    "#Grafico de categoria paralelas\n",
    "grafico = px.parallel_categories(base_census, dimensions=['education', 'income'])\n",
    "grafico.show()"
   ]
  },
  {
   "cell_type": "markdown",
   "metadata": {},
   "source": [
    "Divisão entre previsores e classe"
   ]
  },
  {
   "cell_type": "code",
   "execution_count": null,
   "metadata": {},
   "outputs": [],
   "source": [
    "x_census = base_census.iloc[:, 0:14].values\n",
    "\n",
    "x_census"
   ]
  },
  {
   "cell_type": "code",
   "execution_count": null,
   "metadata": {},
   "outputs": [],
   "source": [
    "y_census = base_census.iloc[:, 14].values\n",
    "y_census"
   ]
  },
  {
   "cell_type": "markdown",
   "metadata": {},
   "source": [
    "Tratamento de atributos categóricos "
   ]
  },
  {
   "cell_type": "markdown",
   "metadata": {},
   "source": [
    "LabelEncoder"
   ]
  },
  {
   "cell_type": "code",
   "execution_count": null,
   "metadata": {},
   "outputs": [],
   "source": [
    "from sklearn.preprocessing import LabelEncoder"
   ]
  },
  {
   "cell_type": "code",
   "execution_count": null,
   "metadata": {},
   "outputs": [],
   "source": [
    "#Transformando strings em numeros - teste\n",
    "label_encoder_teste = LabelEncoder()\n",
    "teste = label_encoder_teste.fit_transform(x_census[:,1])\n",
    "\n",
    "teste"
   ]
  },
  {
   "cell_type": "code",
   "execution_count": null,
   "metadata": {},
   "outputs": [],
   "source": [
    "# Variaveis com Label Encoder para todas as colunas string\n",
    "label_encoder_workclass = LabelEncoder()\n",
    "label_encoder_education = LabelEncoder()\n",
    "label_encoder_marital = LabelEncoder()\n",
    "label_encoder_occupation = LabelEncoder()\n",
    "label_encoder_relationship = LabelEncoder()\n",
    "label_encoder_race = LabelEncoder()\n",
    "label_encoder_sex = LabelEncoder()\n",
    "label_encoder_country = LabelEncoder()"
   ]
  },
  {
   "cell_type": "code",
   "execution_count": null,
   "metadata": {},
   "outputs": [],
   "source": [
    "#Label Encoder sendo aplicado em todas colunas strings\n",
    "x_census[:, 1] = label_encoder_workclass.fit_transform(x_census[:, 1])\n",
    "x_census[:, 3] = label_encoder_education.fit_transform(x_census[:, 3])\n",
    "x_census[:, 5] = label_encoder_marital.fit_transform(x_census[:, 5])\n",
    "x_census[:, 6] = label_encoder_occupation.fit_transform(x_census[:, 6])\n",
    "x_census[:, 7] = label_encoder_relationship.fit_transform(x_census[:, 7])\n",
    "x_census[:, 8] = label_encoder_race.fit_transform(x_census[:, 8])\n",
    "x_census[:, 9] = label_encoder_sex.fit_transform(x_census[:, 9])\n",
    "x_census[:, 13] = label_encoder_country.fit_transform(x_census[:, 13])\n",
    "x_census "
   ]
  },
  {
   "cell_type": "markdown",
   "metadata": {},
   "source": [
    "OneHotEncoder"
   ]
  },
  {
   "cell_type": "code",
   "execution_count": null,
   "metadata": {},
   "outputs": [],
   "source": [
    "\"\"\" Carro \n",
    "\n",
    "-------------------------------------------------------------\n",
    "GOL  PALIO   UNO - Algoritmo vai dar prioridade para o Uno\n",
    "1      2      3 \n",
    "------------------------------------------------------------- \n",
    "\n",
    "-------------------------------------------------------------\n",
    "Com o OneHotEncoder - Será codificado\n",
    "\n",
    "GOL   1 0 0\n",
    "Palio 0 1 0\n",
    "Uno   0 0 1\n",
    "-------------------------------------------------------------\n",
    "\"\"\"\n",
    "\n",
    "len(np.unique(base_census['workclass']))"
   ]
  },
  {
   "cell_type": "code",
   "execution_count": null,
   "metadata": {},
   "outputs": [],
   "source": [
    "from sklearn.preprocessing import OneHotEncoder\n",
    "from sklearn.compose import ColumnTransformer"
   ]
  },
  {
   "cell_type": "code",
   "execution_count": null,
   "metadata": {},
   "outputs": [],
   "source": [
    "#Criando a variavel com o OnehotEncoder\n",
    "onehotencoder_census = ColumnTransformer(transformers=[('OneHot', OneHotEncoder(), [1, 3, 5, 6, 7, 8, 9, 13])], remainder='passthrough')"
   ]
  },
  {
   "cell_type": "code",
   "execution_count": null,
   "metadata": {},
   "outputs": [],
   "source": [
    "#Transformando a base census\n",
    "x_census = onehotencoder_census.fit_transform(x_census).toarray()"
   ]
  },
  {
   "cell_type": "code",
   "execution_count": null,
   "metadata": {},
   "outputs": [],
   "source": [
    "x_census"
   ]
  },
  {
   "cell_type": "code",
   "execution_count": null,
   "metadata": {},
   "outputs": [],
   "source": [
    "x_census.shape"
   ]
  },
  {
   "cell_type": "markdown",
   "metadata": {},
   "source": [
    "Escanolamento de valores - deixar todos na mesma escala"
   ]
  },
  {
   "cell_type": "code",
   "execution_count": null,
   "metadata": {},
   "outputs": [],
   "source": [
    "from sklearn.preprocessing import StandardScaler #Para aplicar a padronização\n",
    "scaler_census = StandardScaler()\n",
    "x_census = scaler_census.fit_transform(x_census)\n",
    "x_census[0]"
   ]
  },
  {
   "cell_type": "markdown",
   "metadata": {},
   "source": [
    "Divisão das bases em treinamento e teste"
   ]
  },
  {
   "cell_type": "code",
   "execution_count": null,
   "metadata": {},
   "outputs": [],
   "source": [
    "from sklearn.model_selection import train_test_split"
   ]
  },
  {
   "cell_type": "markdown",
   "metadata": {},
   "source": [
    "Credit data"
   ]
  },
  {
   "cell_type": "code",
   "execution_count": null,
   "metadata": {},
   "outputs": [],
   "source": [
    "x_census_treinamento, x_census_teste, y_census_treinamento, y_census_teste = train_test_split(x_census, y_census, test_size=0.15, random_state=0)"
   ]
  },
  {
   "cell_type": "code",
   "execution_count": null,
   "metadata": {},
   "outputs": [],
   "source": [
    "x_census_treinamento.shape, y_census_treinamento.shape"
   ]
  },
  {
   "cell_type": "code",
   "execution_count": null,
   "metadata": {},
   "outputs": [],
   "source": [
    "x_census_teste.shape, y_census_teste.shape"
   ]
  },
  {
   "cell_type": "markdown",
   "metadata": {},
   "source": [
    "Salvar as variavéis"
   ]
  },
  {
   "cell_type": "code",
   "execution_count": 35,
   "metadata": {},
   "outputs": [],
   "source": [
    "import pickle"
   ]
  },
  {
   "cell_type": "code",
   "execution_count": 36,
   "metadata": {},
   "outputs": [],
   "source": [
    "with open('census.pkl', mode = 'wb') as f:\n",
    "    pickle.dump([x_census_treinamento, y_census_treinamento, x_census_teste, y_census_teste], f)"
   ]
  }
 ],
 "metadata": {
  "kernelspec": {
   "display_name": "Python 3",
   "language": "python",
   "name": "python3"
  },
  "language_info": {
   "codemirror_mode": {
    "name": "ipython",
    "version": 3
   },
   "file_extension": ".py",
   "mimetype": "text/x-python",
   "name": "python",
   "nbconvert_exporter": "python",
   "pygments_lexer": "ipython3",
   "version": "3.11.2"
  },
  "orig_nbformat": 4
 },
 "nbformat": 4,
 "nbformat_minor": 2
}
