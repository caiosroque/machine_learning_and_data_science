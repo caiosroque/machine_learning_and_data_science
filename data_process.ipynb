{
 "cells": [
  {
   "cell_type": "code",
   "execution_count": null,
   "metadata": {},
   "outputs": [],
   "source": [
    "import pandas as pd\n",
    "import numpy as np\n",
    "import seaborn as sns\n",
    "import matplotlib.pyplot as plt\n",
    "import plotly.express as px"
   ]
  },
  {
   "cell_type": "markdown",
   "metadata": {},
   "source": [
    "Importando base de dados"
   ]
  },
  {
   "cell_type": "code",
   "execution_count": null,
   "metadata": {},
   "outputs": [],
   "source": [
    "#Importando a base de dados\n",
    "base_credit = pd.read_csv('credit_risk_dataset.csv')\n",
    "\n",
    "#Visualizando a base de dados\n",
    "display(base_credit)"
   ]
  },
  {
   "cell_type": "code",
   "execution_count": null,
   "metadata": {},
   "outputs": [],
   "source": [
    "# describe mostra a quantidade\n",
    "base_credit.describe()\n",
    "\n",
    "#Filtrando para a pessoa que mais ganha\n",
    "base_credit[base_credit['person_income'] >= 1440000.000000]\n"
   ]
  },
  {
   "cell_type": "markdown",
   "metadata": {},
   "source": [
    "Visualização dos dados"
   ]
  },
  {
   "cell_type": "code",
   "execution_count": null,
   "metadata": {},
   "outputs": [],
   "source": [
    "#Visualização dos dados - Função \"Unique\" vai contar os valores unicos que existem na coluna\n",
    "np.unique(base_credit['loan_status'], return_counts=True) #Return_count vai mostra a quantidade de cada um dos valores"
   ]
  },
  {
   "cell_type": "code",
   "execution_count": null,
   "metadata": {},
   "outputs": [],
   "source": [
    "#Gerando um gráfico de contagem - ; no final é para não aparecer mensagem\n",
    "sns.countplot(x = base_credit['loan_status']);"
   ]
  },
  {
   "cell_type": "code",
   "execution_count": null,
   "metadata": {},
   "outputs": [],
   "source": [
    "#Gerando um histograma de divisão em faixas\n",
    "plt.hist(x = base_credit['person_age']);"
   ]
  },
  {
   "cell_type": "code",
   "execution_count": null,
   "metadata": {},
   "outputs": [],
   "source": [
    "plt.hist(x = base_credit['person_income']);"
   ]
  },
  {
   "cell_type": "code",
   "execution_count": null,
   "metadata": {},
   "outputs": [],
   "source": [
    "plt.hist(x = base_credit['loan_amnt']);"
   ]
  },
  {
   "cell_type": "code",
   "execution_count": null,
   "metadata": {},
   "outputs": [],
   "source": [
    "#Gerando um gráfico dinamico com plotly - dimensions server para escolher quais parametros vamos analisar\n",
    "grafico = px.scatter_matrix(base_credit, dimensions=['person_age', 'person_income', 'loan_amnt'], color='loan_status')\n",
    "grafico.show()"
   ]
  },
  {
   "cell_type": "markdown",
   "metadata": {},
   "source": [
    "Tratamento de valores Inconsistentes"
   ]
  },
  {
   "cell_type": "code",
   "execution_count": null,
   "metadata": {},
   "outputs": [],
   "source": [
    "#Localizando idades inconsistentes utilizando o comando \"loc\" da biblioteca Pandas\n",
    "base_credit.loc[base_credit['person_age'] < 0]\n",
    "\n",
    "#Outra forma - Utilizando um filtro ao invés do Loc\n",
    "base_credit[base_credit['person_age'] < 0]"
   ]
  },
  {
   "cell_type": "code",
   "execution_count": null,
   "metadata": {},
   "outputs": [],
   "source": [
    "#Caso Isolado - precisar apagar a coluna inteira\n",
    "\n",
    "#Drop -> Irá realizar a exclusão, para excluir uma coluna utilizamos o atributo \"axis\".\n",
    "#Axis - 0 = linha, 1 = coluna\n",
    "base_credit2 = base_credit.drop('person_age', axis= 1)\n",
    "display(base_credit2)"
   ]
  },
  {
   "cell_type": "code",
   "execution_count": null,
   "metadata": {},
   "outputs": [],
   "source": [
    "#Apagar somente os registros com valores inconsistentes\n",
    "base_credit3 = base_credit.drop(base_credit[base_credit[\"person_age\"] < 0 ].index)\n",
    "display(base_credit3)\n",
    "#Código acima realiza, nova base vai ser igual a velha base removendo o filtro \"person_age\" menor que 0, ou seja removendo os valores inconsistentes"
   ]
  },
  {
   "cell_type": "code",
   "execution_count": null,
   "metadata": {},
   "outputs": [],
   "source": [
    "#Verificando se valores inconsistentes foram excluidos\n",
    "base_credit3.loc[base_credit3[\"person_age\"] < 0]"
   ]
  },
  {
   "cell_type": "code",
   "execution_count": null,
   "metadata": {},
   "outputs": [],
   "source": [
    "#Outra maneira - preencher valores inconsistentes manualmente"
   ]
  },
  {
   "cell_type": "code",
   "execution_count": null,
   "metadata": {},
   "outputs": [],
   "source": [
    "#Outra maneira - Preencher com a média \n",
    "base_credit['person_age'].mean()\n",
    "\n",
    "#Filtrando média sem valores inconsistentes\n",
    "base_credit['person_age'][base_credit['person_age'] > 0].mean()"
   ]
  },
  {
   "cell_type": "code",
   "execution_count": null,
   "metadata": {},
   "outputs": [],
   "source": [
    "#Localizando registros que tem problema com a idade faltando\n",
    "base_credit.loc[base_credit[\"person_age\"] < 0, 'person_age'] = 27.73\n",
    "\n",
    "base_credit.loc[base_credit[\"person_age\"] < 0]\n",
    "\n",
    "#Visualizar primeiros registros\n",
    "base_credit.head(10)"
   ]
  },
  {
   "cell_type": "markdown",
   "metadata": {},
   "source": [
    "Tratamento de valores faltantes"
   ]
  },
  {
   "cell_type": "code",
   "execution_count": null,
   "metadata": {},
   "outputs": [],
   "source": [
    "#isnull irá mostar os valores faltantes dentro da tabela\n",
    "base_credit.isnull()\n",
    "\n",
    "#Ira ser feito o somatorio dos valores faltantes\n",
    "base_credit.isnull().sum()\n",
    "\n",
    "\n",
    "#Irá localizar somente os valores faltantes com um filtro\n",
    "base_credit.loc[pd.isnull(base_credit['person_age'])]"
   ]
  },
  {
   "cell_type": "code",
   "execution_count": null,
   "metadata": {},
   "outputs": [],
   "source": [
    "#Função fillna do pandas para preencher valores nulos\n",
    "base_credit[\"person_age\"].fillna(base_credit['person_age'].mean(), inplace=True)\n",
    "\n",
    "#Verificando novamente\n",
    "base_credit.loc[pd.isnull(base_credit['person_age'])]\n",
    "\n",
    "#Caso fosse verificar por id especifico\n",
    "base_credit.loc[(base_credit[''] == 1 )] | base_credit.loc[(base_credit[''] == 2 )]\n",
    "\n",
    "#Mesma coisa que o de cima, mas utilizando a função isin do pandas\n",
    "base_credit.loc[base_credit['clientid']].isin([1, 2])"
   ]
  },
  {
   "cell_type": "markdown",
   "metadata": {},
   "source": [
    "Divisão entre previsores e classe"
   ]
  },
  {
   "cell_type": "code",
   "execution_count": null,
   "metadata": {},
   "outputs": [],
   "source": [
    "#Selecionar bases e colunas do dataframe\n",
    "x_credit = base_credit.iloc[:, 1:4].values\n",
    "display(x_credit)"
   ]
  },
  {
   "cell_type": "code",
   "execution_count": null,
   "metadata": {},
   "outputs": [],
   "source": [
    "\n",
    "y_credit = base_credit.iloc[:, 10].values\n",
    "\n",
    "display(y_credit)"
   ]
  }
 ],
 "metadata": {
  "kernelspec": {
   "display_name": "Python 3",
   "language": "python",
   "name": "python3"
  },
  "language_info": {
   "codemirror_mode": {
    "name": "ipython",
    "version": 3
   },
   "file_extension": ".py",
   "mimetype": "text/x-python",
   "name": "python",
   "nbconvert_exporter": "python",
   "pygments_lexer": "ipython3",
   "version": "3.11.2"
  },
  "orig_nbformat": 4
 },
 "nbformat": 4,
 "nbformat_minor": 2
}
